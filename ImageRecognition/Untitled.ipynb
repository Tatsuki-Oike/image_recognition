{
 "cells": [
  {
   "cell_type": "code",
   "execution_count": 1,
   "id": "e998fe3d-d56f-4dad-a4d2-9763284933e3",
   "metadata": {},
   "outputs": [],
   "source": [
    "import torch"
   ]
  },
  {
   "cell_type": "code",
   "execution_count": 19,
   "id": "b55013f9-55d5-4ea1-a86d-f9956761f669",
   "metadata": {},
   "outputs": [
    {
     "name": "stdout",
     "output_type": "stream",
     "text": [
      "tensor([[[[0., 0., 0., 0.],\n",
      "          [0., 0., 0., 0.],\n",
      "          [0., 0., 0., 0.],\n",
      "          [0., 0., 0., 0.]],\n",
      "\n",
      "         [[0., 0., 0., 0.],\n",
      "          [0., 0., 0., 0.],\n",
      "          [0., 0., 0., 0.],\n",
      "          [0., 0., 0., 0.]],\n",
      "\n",
      "         [[0., 0., 0., 0.],\n",
      "          [0., 0., 0., 0.],\n",
      "          [0., 0., 0., 0.],\n",
      "          [0., 0., 0., 0.]]]])\n"
     ]
    }
   ],
   "source": [
    "zeros = torch.zeros(1, 3, 4, 4)\n",
    "print(zeros)"
   ]
  },
  {
   "cell_type": "code",
   "execution_count": 21,
   "id": "94e45ea1-65be-4d02-9092-63fe82d4ec76",
   "metadata": {},
   "outputs": [],
   "source": [
    "zeros[0, 1, :, :] = 1"
   ]
  },
  {
   "cell_type": "code",
   "execution_count": 22,
   "id": "a4daa2de-8ece-4f5e-9bf3-2ff628c94a96",
   "metadata": {},
   "outputs": [],
   "source": [
    "zeros[0, 2, :, :] = 2"
   ]
  },
  {
   "cell_type": "code",
   "execution_count": 23,
   "id": "fa33679c-90e1-45e0-a107-ea7fe6c509d4",
   "metadata": {},
   "outputs": [
    {
     "data": {
      "text/plain": [
       "tensor([[[[0., 0., 0., 0.],\n",
       "          [0., 0., 0., 0.],\n",
       "          [0., 0., 0., 0.],\n",
       "          [0., 0., 0., 0.]],\n",
       "\n",
       "         [[1., 1., 1., 1.],\n",
       "          [1., 1., 1., 1.],\n",
       "          [1., 1., 1., 1.],\n",
       "          [1., 1., 1., 1.]],\n",
       "\n",
       "         [[2., 2., 2., 2.],\n",
       "          [2., 2., 2., 2.],\n",
       "          [2., 2., 2., 2.],\n",
       "          [2., 2., 2., 2.]]]])"
      ]
     },
     "execution_count": 23,
     "metadata": {},
     "output_type": "execute_result"
    }
   ],
   "source": [
    "zeros"
   ]
  },
  {
   "cell_type": "code",
   "execution_count": 24,
   "id": "4ffb7bde-dcac-40b7-afe2-008e8e68f2f9",
   "metadata": {},
   "outputs": [],
   "source": [
    "f = torch.nn.Conv2d(in_channels=3, out_channels=3, \n",
    "                       kernel_size=(3,3), stride=1, \n",
    "                       padding=0, dilation=1, \n",
    "                       groups=3, bias=False)"
   ]
  },
  {
   "cell_type": "code",
   "execution_count": 25,
   "id": "e9bc813e-7408-43b7-9c60-5a53a7b643f7",
   "metadata": {},
   "outputs": [
    {
     "data": {
      "text/plain": [
       "tensor([[[[ 0.0000,  0.0000],\n",
       "          [ 0.0000,  0.0000]],\n",
       "\n",
       "         [[-0.3569, -0.3569],\n",
       "          [-0.3569, -0.3569]],\n",
       "\n",
       "         [[-1.2526, -1.2526],\n",
       "          [-1.2526, -1.2526]]]], grad_fn=<ConvolutionBackward0>)"
      ]
     },
     "execution_count": 25,
     "metadata": {},
     "output_type": "execute_result"
    }
   ],
   "source": [
    "f(zeros)"
   ]
  },
  {
   "cell_type": "code",
   "execution_count": 30,
   "id": "9386f3d1-3ebe-45fc-b306-25d85d32f39a",
   "metadata": {},
   "outputs": [
    {
     "data": {
      "text/plain": [
       "Parameter containing:\n",
       "tensor([[[[-0.2774, -0.0023,  0.0841],\n",
       "          [ 0.2852, -0.3191, -0.0934],\n",
       "          [ 0.2588,  0.0794,  0.2394]]],\n",
       "\n",
       "\n",
       "        [[[-0.2722, -0.3194,  0.0916],\n",
       "          [ 0.3053, -0.2060, -0.0547],\n",
       "          [-0.1917, -0.0357,  0.3259]]],\n",
       "\n",
       "\n",
       "        [[[-0.1207,  0.1856,  0.0056],\n",
       "          [-0.2711, -0.2974, -0.1465],\n",
       "          [ 0.0688,  0.1319, -0.1825]]]], requires_grad=True)"
      ]
     },
     "execution_count": 30,
     "metadata": {},
     "output_type": "execute_result"
    }
   ],
   "source": [
    "f.weight"
   ]
  },
  {
   "cell_type": "code",
   "execution_count": 34,
   "id": "3269932a-caaa-4aad-998f-a08a3b2c74ac",
   "metadata": {},
   "outputs": [
    {
     "data": {
      "text/plain": [
       "tensor(-0.3569, grad_fn=<SumBackward0>)"
      ]
     },
     "execution_count": 34,
     "metadata": {},
     "output_type": "execute_result"
    }
   ],
   "source": [
    "torch.sum(f.weight[1])"
   ]
  },
  {
   "cell_type": "code",
   "execution_count": 36,
   "id": "2dc5223d-a848-4e96-a370-02a51fc5b52d",
   "metadata": {},
   "outputs": [
    {
     "data": {
      "text/plain": [
       "tensor(-1.2526, grad_fn=<MulBackward0>)"
      ]
     },
     "execution_count": 36,
     "metadata": {},
     "output_type": "execute_result"
    }
   ],
   "source": [
    "torch.sum(f.weight[2])*2"
   ]
  },
  {
   "cell_type": "code",
   "execution_count": 3,
   "id": "84e8727d-44c4-46b2-94b9-1dfbdb01bc6c",
   "metadata": {},
   "outputs": [],
   "source": [
    "import numpy as np\n",
    "import matplotlib.pyplot as plt"
   ]
  },
  {
   "cell_type": "code",
   "execution_count": 78,
   "id": "300281c2-06fa-471d-b1b9-57f98e99a70a",
   "metadata": {},
   "outputs": [],
   "source": [
    "x = torch.arange(-10, 10, 1)\n",
    "f = torch.nn.ReLU6()"
   ]
  },
  {
   "cell_type": "code",
   "execution_count": 79,
   "id": "7056af29-2fb5-403a-acb2-b8c28913cbaa",
   "metadata": {},
   "outputs": [],
   "source": [
    "y = f(x)"
   ]
  },
  {
   "cell_type": "code",
   "execution_count": 80,
   "id": "a5f76de3-ed71-4527-9ef6-eb6572636abf",
   "metadata": {},
   "outputs": [
    {
     "data": {
      "image/png": "[encoded data removed]",
      "text/plain": [
       "<Figure size 500x300 with 1 Axes>"
      ]
     },
     "metadata": {},
     "output_type": "display_data"
    }
   ],
   "source": [
    "plt.figure(figsize=(5,3))\n",
    "plt.title(\"ReLU6\")\n",
    "plt.plot(x, y)\n",
    "plt.show()"
   ]
  },
  {
   "cell_type": "code",
   "execution_count": 4,
   "id": "7c63abb2-c027-406b-83f3-47d2d8d1eecb",
   "metadata": {},
   "outputs": [],
   "source": [
    "import numpy as np\n",
    "\n",
    "def sigmoid(x):\n",
    "    return 1.0 / (1.0 + np.exp(-x))\n",
    "\n",
    "def swish(x):\n",
    "    return x * sigmoid(x)"
   ]
  },
  {
   "cell_type": "code",
   "execution_count": 7,
   "id": "0e79e94b-3483-4cb4-a3da-bcd225618365",
   "metadata": {},
   "outputs": [
    {
     "data": {
      "image/png": "[encoded data removed]",
      "text/plain": [
       "<Figure size 500x300 with 1 Axes>"
      ]
     },
     "metadata": {},
     "output_type": "display_data"
    }
   ],
   "source": [
    "x = np.arange(-10, 10, 1)\n",
    "y = swish(x)\n",
    "plt.figure(figsize=(5,3))\n",
    "plt.title(\"SiLU\")\n",
    "plt.plot(x, y)\n",
    "plt.show()"
   ]
  },
  {
   "cell_type": "code",
   "execution_count": 44,
   "id": "26c9570e-5c31-45a0-93e9-55a26177cde5",
   "metadata": {},
   "outputs": [
    {
     "name": "stdout",
     "output_type": "stream",
     "text": [
      "[2, 1, 1, 1]\n",
      "tensor([[[[0.]]],\n",
      "\n",
      "\n",
      "        [[[1.]]]])\n"
     ]
    }
   ],
   "source": [
    "import torch\n",
    "\n",
    "input = torch.ones((2, 3, 4, 4))\n",
    "p = 0.3\n",
    "survival_rate = 1.0 - p\n",
    "size = [input.shape[0]] + [1] * (input.ndim - 1)\n",
    "print(size)\n",
    "\n",
    "noise = torch.empty(size)\n",
    "noise = noise.bernoulli_(survival_rate)\n",
    "print(noise)\n",
    "if survival_rate > 0.0:\n",
    "    noise.div_(survival_rate)"
   ]
  },
  {
   "cell_type": "code",
   "execution_count": 45,
   "id": "de9ef699-baae-41de-bc6e-a9c10662f8ea",
   "metadata": {},
   "outputs": [
    {
     "data": {
      "text/plain": [
       "tensor([[[[0.0000]]],\n",
       "\n",
       "\n",
       "        [[[1.4286]]]])"
      ]
     },
     "execution_count": 45,
     "metadata": {},
     "output_type": "execute_result"
    }
   ],
   "source": [
    "noise"
   ]
  },
  {
   "cell_type": "code",
   "execution_count": 8,
   "id": "847d322a-0a89-4c7a-b4d4-2c7fed652b03",
   "metadata": {},
   "outputs": [
    {
     "data": {
      "text/plain": [
       "torch.Size([2, 3, 4, 4])"
      ]
     },
     "execution_count": 8,
     "metadata": {},
     "output_type": "execute_result"
    }
   ],
   "source": [
    "input.shape"
   ]
  },
  {
   "cell_type": "code",
   "execution_count": 9,
   "id": "f72ee837-4d32-4c42-8705-cb6806386fcc",
   "metadata": {},
   "outputs": [
    {
     "data": {
      "text/plain": [
       "tensor([[[[1.0526, 1.0526, 1.0526, 1.0526],\n",
       "          [1.0526, 1.0526, 1.0526, 1.0526],\n",
       "          [1.0526, 1.0526, 1.0526, 1.0526],\n",
       "          [1.0526, 1.0526, 1.0526, 1.0526]],\n",
       "\n",
       "         [[1.0526, 1.0526, 1.0526, 1.0526],\n",
       "          [1.0526, 1.0526, 1.0526, 1.0526],\n",
       "          [1.0526, 1.0526, 1.0526, 1.0526],\n",
       "          [1.0526, 1.0526, 1.0526, 1.0526]],\n",
       "\n",
       "         [[1.0526, 1.0526, 1.0526, 1.0526],\n",
       "          [1.0526, 1.0526, 1.0526, 1.0526],\n",
       "          [1.0526, 1.0526, 1.0526, 1.0526],\n",
       "          [1.0526, 1.0526, 1.0526, 1.0526]]],\n",
       "\n",
       "\n",
       "        [[[0.0000, 0.0000, 0.0000, 0.0000],\n",
       "          [0.0000, 0.0000, 0.0000, 0.0000],\n",
       "          [0.0000, 0.0000, 0.0000, 0.0000],\n",
       "          [0.0000, 0.0000, 0.0000, 0.0000]],\n",
       "\n",
       "         [[0.0000, 0.0000, 0.0000, 0.0000],\n",
       "          [0.0000, 0.0000, 0.0000, 0.0000],\n",
       "          [0.0000, 0.0000, 0.0000, 0.0000],\n",
       "          [0.0000, 0.0000, 0.0000, 0.0000]],\n",
       "\n",
       "         [[0.0000, 0.0000, 0.0000, 0.0000],\n",
       "          [0.0000, 0.0000, 0.0000, 0.0000],\n",
       "          [0.0000, 0.0000, 0.0000, 0.0000],\n",
       "          [0.0000, 0.0000, 0.0000, 0.0000]]]])"
      ]
     },
     "execution_count": 9,
     "metadata": {},
     "output_type": "execute_result"
    }
   ],
   "source": [
    "input*noise"
   ]
  },
  {
   "cell_type": "code",
   "execution_count": 57,
   "id": "3e24d06a-24a2-455f-91d1-756015d255c0",
   "metadata": {},
   "outputs": [
    {
     "name": "stdout",
     "output_type": "stream",
     "text": [
      "0 1.0\n",
      "1 0.9\n",
      "2 0.8\n",
      "3 0.7\n",
      "4 0.6\n"
     ]
    }
   ],
   "source": [
    "L = 5\n",
    "pL = 0.6\n",
    "for l in range(L):\n",
    "    pl = 1 - (l/(L-1))*(1-pL)\n",
    "    print(l, pl)"
   ]
  },
  {
   "cell_type": "code",
   "execution_count": null,
   "id": "8573df3e-0c6c-4123-8ef1-64b9b47a4b92",
   "metadata": {},
   "outputs": [],
   "source": []
  }
 ],
 "metadata": {
  "kernelspec": {
   "display_name": "Python 3 (ipykernel)",
   "language": "python",
   "name": "python3"
  },
  "language_info": {
   "codemirror_mode": {
    "name": "ipython",
    "version": 3
   },
   "file_extension": ".py",
   "mimetype": "text/x-python",
   "name": "python",
   "nbconvert_exporter": "python",
   "pygments_lexer": "ipython3",
   "version": "3.9.12"
  }
 },
 "nbformat": 4,
 "nbformat_minor": 5
}
